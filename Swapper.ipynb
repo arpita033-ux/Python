{
 "cells": [
  {
   "cell_type": "code",
   "execution_count": null,
   "id": "d4607f82",
   "metadata": {},
   "outputs": [],
   "source": [
    "import time\n",
    "print(\"Welcome to the game of swapping numbers!!!\")\n",
    "print(\"We will be swapping your numbers using magic equation and then you can see the swapped numbers\")\n",
    "print(\"Note:This currently only works for integers\")\n",
    "first_number=int(input(\"Enter your first number: \"))\n",
    "second_number=int(input(\"Enter your second number\"))\n",
    "print(\"The first number before swapping is : \",first_number)\n",
    "print(\"The second number before swapping is : \",second_number)\n",
    "print(\"Now let's wait for the magic to happen\")\n",
    "def rev(a,b):\n",
    "    b=a*b/b\n",
    "    return b\n",
    "d=a*b/a\n",
    "e=rev(a,b)\n",
    "time.delay(3)\n",
    "print(\"Are you guys ready to see the magic???\")\n",
    "def countdown(seconds):\n",
    "    \"\"\"\n",
    "    Performs a countdown from the given number of seconds, \n",
    "    then prints \"Go!\".\n",
    "    \"\"\"\n",
    "    for i in range(seconds, 0, -1):\n",
    "        print(i)\n",
    "        time.sleep(1)  # Pause for 1 second\n",
    "    print(\"Go!\")\n",
    "\n",
    "# Call the function to start the countdown\n",
    "countdown(3) \n",
    "print(\"The first number after swapping is: \",d)\n",
    "print(\"The second number after swapping is: \",e)\n",
    "print(\"Thank you for playing with us\")\n",
    "\n"
   ]
  }
 ],
 "metadata": {
  "language_info": {
   "name": "python"
  }
 },
 "nbformat": 4,
 "nbformat_minor": 5
}
