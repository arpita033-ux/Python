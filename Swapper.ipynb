{
 "cells": [
  {
   "cell_type": "code",
   "execution_count": null,
   "id": "d4607f82",
   "metadata": {},
   "outputs": [
    {
     "name": "stdout",
     "output_type": "stream",
     "text": [
      "Welcome to the game of swapping numbers!!!\n",
      "We will be swapping your numbers using magic equation and then you can see the swapped numbers\n",
      "Note:This currently only works for integers\n",
      "The first number before swapping is :  20.5\n",
      "The second number before swapping is :  22.5\n",
      "Now let's wait for the magic to happen\n",
      "Are you guys ready to see the magic???\n",
      "3\n",
      "2\n",
      "1\n",
      "Go!\n",
      "The first number after swapping is:  22.5\n",
      "The second number after swapping is:  20.5\n",
      "Thank you for playing with us\n"
     ]
    }
   ],
   "source": [
    "import time\n",
    "print(\"Welcome to the game of swapping numbers!!!\")\n",
    "print(\"We will be swapping your numbers using magic equation and then you can see the swapped numbers\")\n",
    "a=float(input(\"Enter your first number: \"))\n",
    "b=float(input(\"Enter your second number\"))\n",
    "print(\"The first number before swapping is : \",a)\n",
    "print(\"The second number before swapping is : \",b)\n",
    "print(\"Now let's wait for the magic to happen\")\n",
    "def rev(a,b):\n",
    "    b=a*b/b\n",
    "    return b\n",
    "d=a*b/a\n",
    "e=rev(a,b)\n",
    "time.sleep(1)\n",
    "print(\"Are you guys ready to see the magic???\")\n",
    "def countdown(seconds):\n",
    "    \"\"\"\n",
    "    Performs a countdown from the given number of seconds, \n",
    "    then prints \"Go!\".\n",
    "    \"\"\"\n",
    "    for i in range(seconds, 0, -1):\n",
    "        print(i)\n",
    "        time.sleep(1)  # Pause for 1 second\n",
    "    print(\"Go!\")\n",
    "\n",
    "# Call the function to start the countdown\n",
    "countdown(3) \n",
    "print(\"The first number after swapping is: \",d)\n",
    "print(\"The second number after swapping is: \",e)\n",
    "print(\"Thank you for playing with us\")\n",
    "\n"
   ]
  }
 ],
 "metadata": {
  "kernelspec": {
   "display_name": "Python 3",
   "language": "python",
   "name": "python3"
  },
  "language_info": {
   "codemirror_mode": {
    "name": "ipython",
    "version": 3
   },
   "file_extension": ".py",
   "mimetype": "text/x-python",
   "name": "python",
   "nbconvert_exporter": "python",
   "pygments_lexer": "ipython3",
   "version": "3.12.1"
  }
 },
 "nbformat": 4,
 "nbformat_minor": 5
}
